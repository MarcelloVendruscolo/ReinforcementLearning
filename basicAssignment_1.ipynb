{
 "cells": [
  {
   "cell_type": "code",
   "execution_count": 1,
   "id": "hindu-edinburgh",
   "metadata": {},
   "outputs": [],
   "source": [
    "import numpy as np\n",
    "import time\n",
    "import random\n",
    "from IPython.display import clear_output # Used to clear the ouput of a Jupyter cell."
   ]
  },
  {
   "cell_type": "raw",
   "id": "widespread-myanmar",
   "metadata": {},
   "source": [
    "Question 3:"
   ]
  },
  {
   "cell_type": "code",
   "execution_count": 3,
   "id": "bizarre-visiting",
   "metadata": {},
   "outputs": [],
   "source": [
    "discount = 0.5\n",
    "R = np.zeros((3,1))\n",
    "P = np.zeros((3,3))\n",
    "\n",
    "R[0] = -8 # For state A\n",
    "R[1] = 0 # For state B\n",
    "R[2] = 6 # For state C\n",
    "\n",
    "# Enter the probabilities going from state i to state j\n",
    "P[0] = [0, 1, 0] # for i=0 (state A)\n",
    "P[1] = [0.25, 0.25, 0.5] # for i=1 (state B)\n",
    "P[2] = [0.25, 0.75, 0] # for i=2 (state C)"
   ]
  },
  {
   "cell_type": "code",
   "execution_count": 4,
   "id": "chubby-accordance",
   "metadata": {},
   "outputs": [
    {
     "name": "stdout",
     "output_type": "stream",
     "text": [
      "[[-7.82222222]\n",
      " [ 0.35555556]\n",
      " [ 5.15555556]]\n"
     ]
    }
   ],
   "source": [
    "V = np.linalg.inv(np.eye(3) - discount*P)@R # V = (I - discount*P)^-1 * R\n",
    "print(V)"
   ]
  },
  {
   "cell_type": "code",
   "execution_count": null,
   "id": "drawn-toilet",
   "metadata": {},
   "outputs": [],
   "source": []
  }
 ],
 "metadata": {
  "kernelspec": {
   "display_name": "Python 3",
   "language": "python",
   "name": "python3"
  },
  "language_info": {
   "codemirror_mode": {
    "name": "ipython",
    "version": 3
   },
   "file_extension": ".py",
   "mimetype": "text/x-python",
   "name": "python",
   "nbconvert_exporter": "python",
   "pygments_lexer": "ipython3",
   "version": "3.7.4"
  }
 },
 "nbformat": 4,
 "nbformat_minor": 5
}
