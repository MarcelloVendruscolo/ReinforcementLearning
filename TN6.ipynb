{
 "cells": [
  {
   "cell_type": "markdown",
   "metadata": {
    "deletable": false,
    "editable": false
   },
   "source": [
    "# Tinkering Notebook for Lecture 7 - Policy Gradient"
   ]
  },
  {
   "cell_type": "markdown",
   "metadata": {
    "deletable": false,
    "editable": false
   },
   "source": [
    "# Table of content\n",
    "* ### [1. Introduction <a id=\"intro\">](#sec1)\n",
    "* ### [2. Imports <a id=\"imports\">](#sec2)\n",
    "* ### [3. REINFORCE: Monte-Carlo Policy Gradient <a id=\"reinforce\"> ](#sec3)\n",
    " * #### [3.1 Introduction](#sec3_1)\n",
    " * #### [3.2 Run the agent](#sec3_2)\n",
    " * #### [3.3 Discussions ](#sec3_3)\n",
    "* ### [4. REINFORCE with Baseline](#sec4)\n",
    " * #### [4.1 Introduction](#sec4_1)\n",
    " * #### [4.2 Run the agent](#sec4_2)\n",
    " * #### [4.3 Discussions](#sec4_3)\n",
    "* ### [5. Actor-Critic Methods<a id=\"ac\">](#sec5)\n",
    " * #### [5.1 Introduction ](#sec5_1)\n",
    " * #### [5.2 Run the agent](#sec5_2)\n",
    " * #### [5.3 Discussions](#sec5_3)\n"
   ]
  },
  {
   "cell_type": "markdown",
   "metadata": {},
   "source": [
    "# 1. Introduction <a id=\"intro\"> <a id=\"sec1\">"
   ]
  },
  {
   "cell_type": "markdown",
   "metadata": {},
   "source": [
    "\n",
    "\n",
    "References to examples, figures and pages are to the Reinforcement Learning book by Sutton and Barto.\n",
    "\n",
    "This notebook focuses on policy gradient methods. We will implement Reinforce (page 328), Reinforce with Baseline (page 330) and one-step Actor-Critic (page332) and run these on the short corridor environment of Example 13.1. \n",
    "    \n",
    "Note that in this notebook we do not perform averaging over runs,  hence we typically have considerable amount of randomness in our results. This makes it difficult to draw general conclusions about the effect of parameters, especially with Monte-Carlo methods. You may want to perform averaging over runs after your initial experiments. \n",
    "\n",
    "__Short Corridor Environment:__ If you haven't installed `gym-RLcourse` before,  you need to install it in order to use the short corridor environment:\n",
    "\n",
    "```bash\n",
    "git clone https://github.com/ozayca/gym-RLcourse.git\n",
    "cd gym-RLcourse\n",
    "pip3 install -e .\n",
    "```\n",
    "\n",
    "__Note on Code Completition Tasks__: These tasks are tagged with TODO-STD within the code. The explanation for these taks are given in the text just before the associated code. There are also related small tasks,  see for instance R1 just before R2. These small tasks  are designed to help you to understand the crucial concepts and variables/methods.  In most cases, it is not possible to perform the code completion task without understanding these concepts/variables. Please do not try to skip these small tasks! "
   ]
  },
  {
   "cell_type": "markdown",
   "metadata": {},
   "source": [
    "# 2. Imports <a id=\"imports\"> <a id=\"sec2\">"
   ]
  },
  {
   "cell_type": "code",
   "execution_count": 1,
   "metadata": {},
   "outputs": [],
   "source": [
    "import gym\n",
    "import numpy as np\n",
    "import matplotlib.pyplot as plt\n",
    "from scipy.special import softmax\n",
    "import gym_RLcourse"
   ]
  },
  {
   "cell_type": "markdown",
   "metadata": {},
   "source": [
    "Let's create a short corridor: "
   ]
  },
  {
   "cell_type": "code",
   "execution_count": 2,
   "metadata": {},
   "outputs": [
    {
     "name": "stdout",
     "output_type": "stream",
     "text": [
      "State space: Discrete(4)\n",
      "Action space: Discrete(2)\n"
     ]
    }
   ],
   "source": [
    "env = gym.make('ShortCorridor-v0')\n",
    "print('State space:', env.observation_space)\n",
    "print('Action space:', env.action_space)"
   ]
  },
  {
   "cell_type": "markdown",
   "metadata": {},
   "source": [
    "__Short corridor with switched actions:__ In the short corridor environment,  there are 3 non-terminal states. The available actions are one-step left and one-step right. The reward is -1 per step. The result of actions are reversed in the second state from the left. Please see Example 13.1 for details.  \n",
    "\n",
    "Let's make a basic check on our installation for the corridor environment. When you run the code, you will see 3 non-terminal states and  a terminal goal state on the right (`G`). Agent's location is indicated by `x` which is always at the left-most position at initialization. Other states are marked with `o`.\n"
   ]
  },
  {
   "cell_type": "code",
   "execution_count": 3,
   "metadata": {},
   "outputs": [
    {
     "name": "stdout",
     "output_type": "stream",
     "text": [
      "x  o  o  G\n",
      "\n"
     ]
    }
   ],
   "source": [
    "env.render()"
   ]
  },
  {
   "cell_type": "markdown",
   "metadata": {},
   "source": [
    "# 3. REINFORCE: Monte-Carlo Policy Gradient <a id=\"reinforce\">  <a id=\"sec3\">"
   ]
  },
  {
   "cell_type": "markdown",
   "metadata": {},
   "source": [
    "## 3.1 Introduction <a id=\"sec3_1\">"
   ]
  },
  {
   "cell_type": "markdown",
   "metadata": {},
   "source": [
    "\n",
    "    \n",
    "We now implement the REINFORCE: Monte-Carlo Policy-Gradient Control for Example 13.1\n",
    "  \n",
    "The class `PolicyGradient` can be called to run either plain REINFORCE (page 328)  or REINFORCE with baseline (page 330). This is determined by  `flag_with_baseline`. If flag_with_baseline is 1, REINFORCE with the baseline is called. Otherwise, we have  plain REINFORCE (page 328). \n",
    "\n",
    "We now focus on plain REINFORCE.\n",
    "    \n",
    "The following may help you to see the correspondence between the code and the algorithm in the book more easily:   \n",
    "    \n",
    "- You can read about the   `softmax()` function here: https://docs.scipy.org/doc/scipy/reference/generated/scipy.special.softmax.html\n",
    "    \n",
    "- Our code implements the policy parametrization given by Eqn 13.2 and 13.3, see `policy()` method. \n",
    "    \n",
    "- The variable `alpha_theta` corresponds to $\\alpha$ on REINFORCE (page 328). For clarity and to be consistent with the later version with baseline,  it is named as alpha_theta.  \n",
    "      \n",
    "- Note the following: i) the features for policy parametrization from Example 13.1 are hard-coded , ii) the value function parametrization is hard-coded as on Page 331. Note that none of these are state-dependent.\n",
    "    \n",
    "__Task-R1:__  If you haven't already done while studying the subject, verify Eqn. 13.9. __IMPORTANT__ We use this relation for the update of $\\theta$. \n",
    "    \n",
    "__Task-R2:__ For `flag_with_baseline=0`, complete the method  `learn()` using  plain REINFORCE (page 328)."
   ]
  },
  {
   "cell_type": "code",
   "execution_count": 18,
   "metadata": {},
   "outputs": [],
   "source": [
    "class PolicyGradient:\n",
    "\n",
    "    def __init__(self, gamma=1, alpha_theta=(2.0**-13), flag_with_baseline=0, alpha_w=(2.0**-6)):\n",
    "        self.gamma = gamma\n",
    "        self.alpha_theta = alpha_theta\n",
    "        self.actions = range(2)  # 0: left, 1: right\n",
    "        # features: first column : x(s,left) =[0,1], second column x(s,right) = [1,0]\n",
    "        self.features = np.array([[0, 1], [1, 0]]) \n",
    "        self.theta = [-1.47, +1.47]  # start close to epsilon-greedy left, see Example 13.1\n",
    "        self.flag_with_baseline = 0\n",
    "        if flag_with_baseline == 1:\n",
    "            self.flag_with_baseline = 1\n",
    "            self.alpha_w = alpha_w\n",
    "            self.w = 0.0\n",
    "\n",
    "    def policy(self, state):\n",
    "        h = np.dot(self.theta, self.features)  # features are not dependent on the state, see Example 13.1\n",
    "        return softmax(h)\n",
    "\n",
    "    def act(self, state): # agent chooses its action according to the probability distribution provided by the policy\n",
    "        action = np.random.choice(self.actions, p=self.policy(state))\n",
    "        return action\n",
    "\n",
    "    def valueFunc(self, state):\n",
    "        return self.w  # This is a  value function parametrization specialized for Example 13.1, see page 331\n",
    "\n",
    "    def learn(self, states, actions, rewards):\n",
    "        # TODO-STD Using the arrays of states, actions, rewards, write the code for the following: \n",
    "        # Task-R2: if self.flag_with_baseline == 0, the last three lines of REINFORCE on page 308 is executed.\n",
    "        # Task-RB1:  if self.flag_with_baseline == 1, the the last five lines of REINFORCE  on page 330 is executed. \n",
    "        # NOTES:\n",
    "        # -- To experiment with plain REINFORCE (without baseline), you do not need to complete Task-RB1! \n",
    "        #    You can just complete Task-R2 and call the agent with the option flag_with_baseline=0\n",
    "        # -- Make sure that your solution updates self.theta for Task-R2;  and self.theta and self.w for Task-RB1\n",
    "        # -- Note about indexing:  \n",
    "        # The train() function will follow the indexing in the book. \n",
    "        # Hence, S_t, A_t, R_t+1 are at the indices t, t, t+1 in their respective arrays.\n",
    "\n",
    "        T = len(states) - 1 #   \n",
    "        G = 0 #   \n",
    "        GA = np.zeros((T, 1)) #   \n",
    "        for t in reversed(range(T)): #   \n",
    "            G = self.gamma * G + rewards[t + 1]  # G_t #   \n",
    "            GA[t] = G #   \n",
    "        for t in range(T): #   \n",
    "            G = GA[t] #   \n",
    "            action = actions[t] #   \n",
    "            state = states[t] #   \n",
    "            if self.flag_with_baseline == 1:  \n",
    "                delta = G - self.valueFunc(state) #   #....\n",
    "                gradient_w = 1 #   \n",
    "                delta_w = self.alpha_w * delta * gradient_w #   \n",
    "                self.w += delta_w #   \n",
    "                D = delta #   \n",
    "            else: \n",
    "                D = G #   #.... \n",
    "            gradient_theta = self.features[:, action] - np.dot(self.features, self.policy(state))  # see Eqn. 13.9 #     \n",
    "            delta_theta = self.alpha_theta * np.power(self.gamma, t) * D * gradient_theta #   \n",
    "            self.theta += delta_theta #     "
   ]
  },
  {
   "cell_type": "markdown",
   "metadata": {},
   "source": [
    "## 3.2 Run the agent <a id=\"sec3_2\">"
   ]
  },
  {
   "cell_type": "markdown",
   "metadata": {},
   "source": [
    "\n",
    "\n",
    "We first introduce `train` function for ease of experimentation. Note that the function returns the array `total_reward_episodes` which provides the sum of rewards in episode $i$ at index $i$. We will use this variable to track the behaviour of the agent. "
   ]
  },
  {
   "cell_type": "code",
   "execution_count": 19,
   "metadata": {},
   "outputs": [],
   "source": [
    "def train(env, agent, nEpisode):\n",
    "    total_reward_episodes = np.zeros(nEpisode)\n",
    "    max_nStep = 1000\n",
    "    for iEpisode in range(nEpisode):\n",
    "        if iEpisode % 100 == 0: \n",
    "            print('Episode', iEpisode)\n",
    "        done = False\n",
    "        t = 0\n",
    "        T = np.inf\n",
    "        state = env.reset()\n",
    "        action = agent.act(state)\n",
    "        actionA = [action]\n",
    "        stateA = [state]\n",
    "        rewardA = [0]\n",
    "        while not done:\n",
    "            if t < T:\n",
    "                state, reward, done, info = env.step(action)\n",
    "                rewardA.append(reward)\n",
    "                stateA.append(state)\n",
    "                action = agent.act(state)\n",
    "                actionA.append(action)\n",
    "                if done:\n",
    "                    T = t + 1\n",
    "            t += 1\n",
    "            if t > max_nStep:\n",
    "                done = True\n",
    "        agent.learn(stateA, actionA, rewardA)\n",
    "        total_reward_episodes[iEpisode] = np.sum(rewardA)\n",
    "    return (total_reward_episodes)"
   ]
  },
  {
   "cell_type": "code",
   "execution_count": 20,
   "metadata": {},
   "outputs": [],
   "source": [
    "def plotTotalRewardEpisodes(total_reward_episodes, alg_label):\n",
    "    plt.axhline(y=-11.6, color='y', linestyle='-.', label='v*(s0)')\n",
    "    plt.plot(total_reward_episodes, label= alg_label) \n",
    "    plt.xlabel('Episode')\n",
    "    plt.ylabel('G')\n",
    "    plt.legend(loc='best')\n",
    "    plt.ylim(-100, 0)\n",
    "    plt.grid(True)\n",
    "    plt.show()"
   ]
  },
  {
   "cell_type": "markdown",
   "metadata": {},
   "source": [
    "We now create the short corridor environment of Example 13.1 and create the REINFORCE agent (without baseline). \n",
    "\n",
    "__Task-SC:__ What is optimal strategy in Short Corridor if you are allowed to form a state-dependent strategy? "
   ]
  },
  {
   "cell_type": "code",
   "execution_count": 21,
   "metadata": {},
   "outputs": [],
   "source": [
    "env = gym.make('ShortCorridor-v0')\n",
    "agent = PolicyGradient(gamma=1.0, alpha_theta=2**(-13), flag_with_baseline=0)"
   ]
  },
  {
   "cell_type": "markdown",
   "metadata": {},
   "source": [
    "Note that the policy is not state dependent, hence action probabilities are the same for all states. Let's look at the initial policy. The policy is written as: (probability(left), probability(right)). You should see values close to those of $\\epsilon$-greedy left, see the figure of Example 13.1.  "
   ]
  },
  {
   "cell_type": "code",
   "execution_count": 22,
   "metadata": {},
   "outputs": [
    {
     "name": "stdout",
     "output_type": "stream",
     "text": [
      "[0.94978873 0.05021127]\n"
     ]
    }
   ],
   "source": [
    "print(agent.policy(state=0))"
   ]
  },
  {
   "cell_type": "markdown",
   "metadata": {},
   "source": [
    "We now run the agent on the environment. Wait until the agent's final policy is printed. "
   ]
  },
  {
   "cell_type": "code",
   "execution_count": 23,
   "metadata": {},
   "outputs": [
    {
     "name": "stdout",
     "output_type": "stream",
     "text": [
      "Episode 0\n",
      "Episode 100\n",
      "Episode 200\n",
      "Episode 300\n",
      "Episode 400\n",
      "Episode 500\n",
      "Episode 600\n",
      "Episode 700\n",
      "Episode 800\n",
      "Episode 900\n",
      "[0.5068172 0.4931828]\n"
     ]
    }
   ],
   "source": [
    "total_reward_episodes = train(env, agent, nEpisode =1000)\n",
    "print(agent.policy(state=0))"
   ]
  },
  {
   "cell_type": "markdown",
   "metadata": {},
   "source": [
    "We plot the reward function.  "
   ]
  },
  {
   "cell_type": "code",
   "execution_count": 24,
   "metadata": {},
   "outputs": [
    {
     "data": {
      "image/png": "[encoded data removed]",
      "text/plain": [
       "<Figure size 432x288 with 1 Axes>"
      ]
     },
     "metadata": {
      "needs_background": "light"
     },
     "output_type": "display_data"
    }
   ],
   "source": [
    "plotTotalRewardEpisodes(total_reward_episodes, 'REINFORCE')"
   ]
  },
  {
   "cell_type": "markdown",
   "metadata": {},
   "source": [
    "## 3.3 Discussions  <a id=\"sec3_3\">"
   ]
  },
  {
   "cell_type": "markdown",
   "metadata": {},
   "source": [
    "\n",
    "\n",
    "\n",
    "\n",
    "__Task-RD1:__ The optimal policy  is choosing *right*  with probability $\\approx 0.59$, which achieves a value of $v_*\\approx -11.6$.  Re-run the above cells a few times so that the agent and environment is reset. (i.e. start again from the cell that calls `gym.make()`). At each time, check the following: Is the agent's policy close to the optimal value policy? Is the return close to $v_*$? You may have observed that the return is fairly close to the optimal value but the policy is not close to this optimal value (in the sense that probability of choosing *right* is not close to  $0.59$).  Check the plot in Example 13.1 to understand what is going on. \n",
    "\n",
    "__Task-RD2:__ The learning parameter `alpha_theta` was chosen using Figure 13.1. Change it and try to determine how it  affects the results. It may be interesting to choose values in the range $2^{(-10)} - 2^{(-13)}$. Note that some of these runs may take an extraordinarily long time. Why do you think this is the case? See also the discussions below. "
   ]
  },
  {
   "cell_type": "markdown",
   "metadata": {},
   "source": [
    "__Task-RD3:__ Similar to Figure 13.1,  we now provide the average performance over $300$ runs. Compare these results  with Figure 13.1 and your observations. \n",
    "\n",
    "<center><img src=\"figures/fig_reinforceall.png\" height=300></center>\n",
    "\n",
    "Looking at the variance of the performance over different runs can be helpful. In the below figures, we indicate the standard deviation over the runs with a gray area on the plots. More precisely, we plot as follows: the blue curve gives the *mean* of the total reward over runs  (hence this curve is the same with the corresponding curve in the above figure). We also color the area between *mean-standard deviation* and *mean+standard deviation* with light gray.  To make the plots easier to read, we have done the following: standard deviation is smoothed along episode index axis and capped with $100$. \n",
    "\n",
    "<table><tr><td><img src=\"figures/fig_reinforce_alpha2p-12.png\" height=300 ></td><td><img src=\"figures/fig_reinforce_alpha2p-13.png\"  height=300></td><td><img src=\"figures/fig_reinforce_alpha2p-14.png\"  height=300></td></tr></table>\n"
   ]
  },
  {
   "cell_type": "markdown",
   "metadata": {},
   "source": [
    "__Task-RD4:__ Consider the function `softmax()` which takes a vector and returns a vector of exponential of each element divided by the sum of the exponentials of all the elements. The implementation details of this function can heavily affect the emprical performance of the algorithms. A straightforward implementation would be the following: \n",
    "\n",
    "    softmax(x) = np.exp(x)/sum(np.exp(x))\n",
    "\n",
    "On the other hand, in the scipy library it is implemented as: \n",
    "\n",
    "    softmax(x) = np.exp(x - logsumexp(x))\n",
    "    \n",
    "Are these two forms equivalent? Why do you think the second form is prefered? How would the results change if the first form were used?     \n",
    "    "
   ]
  },
  {
   "cell_type": "markdown",
   "metadata": {},
   "source": [
    "# 4. REINFORCE with Baseline <a id=\"sec4\">"
   ]
  },
  {
   "cell_type": "markdown",
   "metadata": {},
   "source": [
    "## 4.1 Introduction <a id=\"sec4_1\">"
   ]
  },
  {
   "cell_type": "markdown",
   "metadata": {},
   "source": [
    "\n",
    "\n",
    "We now consider the REINFORCE with Baseline (episodic) (page 330). \n",
    "\n",
    "__Task-RB1:__ In  `PolicyGradient()` provided in the beginning of the notebook, complete the code task tagged as Task-RB1. \n",
    "\n"
   ]
  },
  {
   "cell_type": "markdown",
   "metadata": {},
   "source": [
    "## 4.2 Run the agent <a id=\"sec4_2\">"
   ]
  },
  {
   "cell_type": "markdown",
   "metadata": {},
   "source": [
    "Once you have performed the above task, we run the experiment and plot the total reward versus episodes. The step sizes `alpha_theta` and `alpha_w` are chosen using Figure 13.2. "
   ]
  },
  {
   "cell_type": "code",
   "execution_count": 25,
   "metadata": {},
   "outputs": [
    {
     "name": "stdout",
     "output_type": "stream",
     "text": [
      "Episode 0\n",
      "Episode 100\n",
      "Episode 200\n",
      "Episode 300\n",
      "Episode 400\n",
      "Episode 500\n",
      "Episode 600\n",
      "Episode 700\n",
      "Episode 800\n",
      "Episode 900\n",
      "[0.42234872 0.57765128]\n"
     ]
    }
   ],
   "source": [
    "env = gym.make('ShortCorridor-v0')\n",
    "agent = PolicyGradient(gamma=1.0, alpha_theta=2**(-9), flag_with_baseline=1, alpha_w=(2.0**-6))\n",
    "total_reward_episodes = train(env, agent, nEpisode =1000)\n",
    "print(agent.policy(state=0))"
   ]
  },
  {
   "cell_type": "code",
   "execution_count": 26,
   "metadata": {},
   "outputs": [
    {
     "data": {
      "image/png": "[encoded data removed]",
      "text/plain": [
       "<Figure size 432x288 with 1 Axes>"
      ]
     },
     "metadata": {
      "needs_background": "light"
     },
     "output_type": "display_data"
    }
   ],
   "source": [
    "plotTotalRewardEpisodes(total_reward_episodes, 'REINFORCE with baseline')"
   ]
  },
  {
   "cell_type": "markdown",
   "metadata": {},
   "source": [
    "## 4.3 Discussions <a id=\"sec4_3\">"
   ]
  },
  {
   "cell_type": "markdown",
   "metadata": {},
   "source": [
    "\n",
    "\n",
    "__Task-RBD1:__ Experiment with different step sizes. With well chosen parameters, we expect REINFORCE with baseline to learn faster compared to the plain REINFORCE. Are your observations consistent with this expectation? \n",
    "\n",
    "__Task-RBD2:__ We now provide the average performance of REINFORCE with baseline over $300$ runs. We used the following parameters: `alpha_theta=2**(-9), alpha_w=(2.0**-6)`. Similar to the plots before, gray areas indicate the variations based on the standard deviation and processed in the same manner. Compare these results  with Figure 13.2 and your observations.\n",
    "\n",
    "<center><img src=\"figures/fig_reinforceWithBaseline_alpha2p-9.png\" height=300></center>\n",
    "\n",
    "Based on these plots, your observations and your theoratical knowledge about these methods, compare plain REINFORCE and REINFORCE with baseline. Which one would you prefer to use?"
   ]
  },
  {
   "cell_type": "markdown",
   "metadata": {},
   "source": [
    "# 5. Actor-Critic Methods<a id=\"ac\"> <a id=\"sec5\">"
   ]
  },
  {
   "cell_type": "markdown",
   "metadata": {},
   "source": [
    "## 5.1 Introduction  <a id=\"sec5_1\">"
   ]
  },
  {
   "cell_type": "markdown",
   "metadata": {},
   "source": [
    "\n",
    "\n",
    "We now consider one-step Actor-Critic (episodic) on Page 332. We will now have a critic who will guide the learning based on how well it thinks the agent is doing. The critic here is a value function approximator.  \n",
    "\n",
    "We implement this method for Example 13.1 using the same policy parametrization  provided for Monte-Carlo methods.  \n",
    "\n",
    "__Task-AC1:__ For the state-value function parametrization, we use the canonical basis in the R^3. Check initialization of `self.features_value`  and the method `valueFunc` to understand how we have parametrized the value function. \n",
    "\n",
    "__Task-AC2:__ Complete the `learn` method using one-step Actor-Critic on page 332. \n",
    "\n",
    "__Task-AC3:__ Compare REINFORCE with baseline with one-step Actor-Critic. In which way, these methods are different/similar?"
   ]
  },
  {
   "cell_type": "code",
   "execution_count": null,
   "metadata": {},
   "outputs": [],
   "source": [
    "#One-step Actor-Critic Episodic for estimating optimal policy, pg332 from Sutton, Barto\n",
    "class ActorCritic:\n",
    "\n",
    "    def __init__(self, gamma=1, alpha_theta=2**-12, alpha_w=2**-4):\n",
    "        self.gamma = gamma\n",
    "        self.alpha_theta = alpha_theta\n",
    "        self.actions = range(2)\n",
    "        # features for the policy: first column : x(s,left) =[0,1], second column x(s,right) = [1,0]\n",
    "        self.features = np.array([[0, 1], [1, 0]]) \n",
    "        self.theta = [-1.47, 1.47]  # start close to epsilon-greedy left, see Example 13.1\n",
    "        self.gamma_power = 1  # I from pg332\n",
    "        self.alpha_w = alpha_w\n",
    "        self.w = [ 0, 0, 0]\n",
    "        # features for the value function approximation\n",
    "        self.features_value = np.array([[1, 0, 0], [0, 1, 0],[0, 0, 1]]) \n",
    "\n",
    "    def policy(self, state):\n",
    "        h = np.dot(self.theta, self.features)  # features are not dependent on the state, as in Example 13.1\n",
    "        return softmax(h)\n",
    "\n",
    "    def act(self, state):\n",
    "        action = np.random.choice(self.actions, p=self.policy(state))\n",
    "        return action\n",
    "\n",
    "    def valueFunc(self, state): # calculates \\hat{v}(state,w) (when the features are the canonical basis as in self.features_value)\n",
    "        return self.w[state]\n",
    "\n",
    "\n",
    "    def learn(self, state, action, state_next, reward, flag_state_next_terminal):\n",
    "        # TODO-STD write the code for the following: \n",
    "        # Task-AC2: Implement one-step Actor-Critic on page 332.\n",
    "        # NOTES:\n",
    "        # Make sure that your code updates  self.w, self.theta and self.gamma_power (representing I from pg332)\n",
    "        # -- Note that flag_state_next_terminal=1 if next state is terminal\n",
    "\n",
    "         \n",
    "            \n",
    "        \n",
    "            \n",
    "        \n",
    "        # w-update  \n",
    "         #....\n",
    "        \n",
    "        \n",
    "        # theta-update\n",
    "         #....\n",
    "         \n",
    "         \n",
    "        # self.gamma_power update\n",
    "         #....\n"
   ]
  },
  {
   "cell_type": "markdown",
   "metadata": {},
   "source": [
    "## 5.2 Run the agent <a id=\"sec5_2\">"
   ]
  },
  {
   "cell_type": "markdown",
   "metadata": {},
   "source": [
    "\n",
    "\n",
    "We now introduce `train_onestep` function for ease of experimentation. Again, the function returns the array `total_reward_episodes` which provides the sum of rewards in episode $i$ at index $i$. We will use this variable to track the behaviour of the agent. \n",
    "\n",
    "__Task-ACT:__ The `train_onestep` function for this Actor-Critic is different from the `train` function for the Monte-Carlo methods. Explain how they are different. "
   ]
  },
  {
   "cell_type": "code",
   "execution_count": null,
   "metadata": {},
   "outputs": [],
   "source": [
    "def train_onestep(env, agent, nEpisode):\n",
    "    total_reward_episodes = np.zeros(nEpisode)\n",
    "    max_nStep = 1000  \n",
    "    for iEpisode in range(nEpisode):\n",
    "        if iEpisode % 100 == 0: \n",
    "            print('Episode', iEpisode)\n",
    "        done = False\n",
    "        t = 0\n",
    "        T = np.inf\n",
    "        state = env.reset()\n",
    "        action = agent.act(state)\n",
    "        actionA = [action]\n",
    "        stateA = [state]\n",
    "        rewardA = [0]\n",
    "        while not done:\n",
    "            if t < T:\n",
    "                state_past = state\n",
    "                state, reward, done, info = env.step(action)\n",
    "                agent.learn(state_past, action, state, reward, done)\n",
    "                rewardA.append(reward)\n",
    "                stateA.append(state)\n",
    "                action = agent.act(state)\n",
    "                actionA.append(action)\n",
    "                if done:\n",
    "                    T = t + 1\n",
    "            t += 1\n",
    "            if t > max_nStep:\n",
    "                done = True\n",
    "        total_reward_episodes[iEpisode] = np.sum(rewardA)\n",
    "    return (total_reward_episodes)"
   ]
  },
  {
   "cell_type": "markdown",
   "metadata": {},
   "source": [
    "We now run the experiment and plot the total reward versus episodes. Wait until you see the policy printed. "
   ]
  },
  {
   "cell_type": "code",
   "execution_count": null,
   "metadata": {},
   "outputs": [],
   "source": [
    "env = gym.make('ShortCorridor-v0')\n",
    "agent = ActorCritic(gamma=1, alpha_theta=2**(-12), alpha_w=(2.0**-4)) \n",
    "total_reward_episodes = train_onestep(env, agent, nEpisode =1000)\n",
    "print(agent.policy(state=0))"
   ]
  },
  {
   "cell_type": "code",
   "execution_count": null,
   "metadata": {},
   "outputs": [],
   "source": [
    "plotTotalRewardEpisodes(total_reward_episodes, 'Actor-Critic')"
   ]
  },
  {
   "cell_type": "markdown",
   "metadata": {},
   "source": [
    "## 5.3 Discussions <a id=\"sec5_3\">"
   ]
  },
  {
   "cell_type": "markdown",
   "metadata": {},
   "source": [
    "\n",
    "\n",
    "__Task-RBD1:__ Experiment with different step sizes. Compare the performance with that of REINFORCE variants.\n",
    "\n",
    "__Task-RBD2:__ We now provide the average performance of one step Actor-Critic over $300$ runs. We used the following parameters: `alpha_theta=2**(-12), alpha_w=(2.0**-2)`. Similar to the plots before, gray areas indicate the variations based on the standard deviation and processed in the same manner. Compare these with the plots for REINFORCE variants.\n",
    "\n",
    "<center><img src=\"figures/fig_AC_alphatheta_2p-12_alphaw_2p-2.png\" height=300></center>\n",
    "\n",
    "\n"
   ]
  }
 ],
 "metadata": {
  "kernelspec": {
   "display_name": "Python 3",
   "language": "python",
   "name": "python3"
  },
  "language_info": {
   "codemirror_mode": {
    "name": "ipython",
    "version": 3
   },
   "file_extension": ".py",
   "mimetype": "text/x-python",
   "name": "python",
   "nbconvert_exporter": "python",
   "pygments_lexer": "ipython3",
   "version": "3.7.4"
  }
 },
 "nbformat": 4,
 "nbformat_minor": 4
}
