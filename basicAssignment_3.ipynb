{
 "cells": [
  {
   "cell_type": "code",
   "execution_count": 5,
   "id": "nuclear-racing",
   "metadata": {},
   "outputs": [],
   "source": [
    "import numpy as np"
   ]
  },
  {
   "cell_type": "markdown",
   "id": "configured-strand",
   "metadata": {},
   "source": [
    "Exercise 3"
   ]
  },
  {
   "cell_type": "code",
   "execution_count": 18,
   "id": "patent-belarus",
   "metadata": {},
   "outputs": [
    {
     "name": "stdout",
     "output_type": "stream",
     "text": [
      "[[262.03905 ]\n",
      " [452.822985]]\n"
     ]
    }
   ],
   "source": [
    "steps = 4\n",
    "w = np.array((0,0)).reshape(-1,1)\n",
    "states = np.array((1,35,25,85)).reshape(1,-1)\n",
    "rewards = np.array((15,14,15,10)).reshape(1,-1)\n",
    "for counter in range(steps):\n",
    "    gradient = np.array((0.5, states[0,counter]/100)).reshape(-1,1)\n",
    "    w = w + 0.9*(rewards[0,counter] - (0.5*w[0] + states[0,counter]*w[1]))*gradient\n",
    "print(w)"
   ]
  },
  {
   "cell_type": "code",
   "execution_count": 19,
   "id": "unnecessary-harvard",
   "metadata": {},
   "outputs": [
    {
     "name": "stdout",
     "output_type": "stream",
     "text": [
      "[470.63676375]\n"
     ]
    }
   ],
   "source": [
    "value_75 = w[0]*0.5 + w[1]*(75/100)\n",
    "print(value_75)"
   ]
  }
 ],
 "metadata": {
  "kernelspec": {
   "display_name": "Python 3",
   "language": "python",
   "name": "python3"
  },
  "language_info": {
   "codemirror_mode": {
    "name": "ipython",
    "version": 3
   },
   "file_extension": ".py",
   "mimetype": "text/x-python",
   "name": "python",
   "nbconvert_exporter": "python",
   "pygments_lexer": "ipython3",
   "version": "3.7.4"
  }
 },
 "nbformat": 4,
 "nbformat_minor": 5
}
