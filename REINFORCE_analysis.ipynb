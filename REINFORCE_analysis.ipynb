{
 "cells": [
  {
   "cell_type": "code",
   "execution_count": 21,
   "id": "center-format",
   "metadata": {},
   "outputs": [],
   "source": [
    "import numpy as np\n",
    "import matplotlib.pyplot as plt\n",
    "from scipy.special import softmax"
   ]
  },
  {
   "cell_type": "code",
   "execution_count": 63,
   "id": "fancy-gregory",
   "metadata": {},
   "outputs": [],
   "source": [
    "class RandomWalk:\n",
    "    \n",
    "    def __init__(self, reward_left, reward_right, case_label, initialState=0):\n",
    "        self.initialState = initialState\n",
    "        self.state = initialState\n",
    "        \n",
    "        # Set the reward signs according to the user-defined Case Label\n",
    "        if case_label == 'NP':\n",
    "            self.Rr = reward_right\n",
    "            self.Rl = -reward_left\n",
    "        elif case_label == 'PP':\n",
    "            self.Rr = reward_right\n",
    "            self.Rl = reward_left\n",
    "        elif case_label == 'NN':\n",
    "            self.Rr = -reward_right\n",
    "            self.Rl = -reward_left\n",
    "        \n",
    "    def step(self, action):\n",
    "        if action == 0:\n",
    "            reward = self.Rl\n",
    "            state_next = -1\n",
    "        elif action == 1:\n",
    "            reward = self.Rr\n",
    "            state_next = 1\n",
    "        self.state = state_next\n",
    "        done, info = True, True\n",
    "        return [state_next], reward, done, info # State returned in list following the MountainCar standard\n",
    "    \n",
    "    def reset(self):\n",
    "        self.state = self.initialState\n",
    "        return [self.state] # State returned in list following the MountainCar standard"
   ]
  },
  {
   "cell_type": "code",
   "execution_count": 64,
   "id": "anonymous-tours",
   "metadata": {},
   "outputs": [],
   "source": [
    "class PolicyGradient:\n",
    "    \n",
    "    def __init__(self, gamma=1, alpha_theta=(2.0**-13), flag_with_baseline=0, alpha_w=(2.0**-10), first_action=None, theta_initialisation='Left', w_initialisation=0):\n",
    "        self.first_episode = True # Flag differing first episode from the remaining episodes\n",
    "        self.first_action = first_action # First_action enables the user to specify which action the agent should take in the first episode\n",
    "        self.gamma = gamma\n",
    "        self.alpha_theta = alpha_theta\n",
    "        self.actions = range(2)  # 0: left, 1: right\n",
    "        self.features = np.array([[0, 1], [1, 0]]) # features: first column : x(s,left) =[0,1], second column x(s,right) = [1,0]\n",
    "        \n",
    "        if theta_initialisation == 'Left':\n",
    "            self.theta = [-1.47, +1.47] # Start close to epsilon-greedy left.\n",
    "        elif theta_initialisation == 'Right':\n",
    "            self.theta = [+1.47, -1.47] # Start close to epsilon-greedy right.\n",
    "    \n",
    "        self.flag_with_baseline = 0\n",
    "        if flag_with_baseline == 1:\n",
    "            self.flag_with_baseline = 1\n",
    "            self.alpha_w = alpha_w\n",
    "            self.w = w_initialisation # Initialisation of parameter w\n",
    "\n",
    "    def policy(self, state):\n",
    "        h = np.dot(self.theta, self.features)  # features are not dependent on the state.\n",
    "        return softmax(h)\n",
    "\n",
    "    def act(self, state): # agent chooses its action according to the probability distribution provided by the policy\n",
    "        action = np.random.choice(self.actions, p=self.policy(state))\n",
    "        if self.first_episode == True:\n",
    "            self.first_episode = False\n",
    "            if self.first_action is not None: # If user did not defined first_action, use randomly chosen.\n",
    "                action = self.first_action\n",
    "        return action\n",
    "\n",
    "    def valueFunc(self, state):\n",
    "        return self.w  # This is a value function parametrization specialized for this environment.\n",
    "\n",
    "    def learn(self, states, actions, rewards):         \n",
    "        T = len(states) - 1\n",
    "        G = 0\n",
    "        GA = np.zeros((T, 1))\n",
    "        for t in reversed(range(T)):\n",
    "            G = self.gamma * G + rewards[t + 1]\n",
    "            GA[t] = G\n",
    "        for t in range(T):\n",
    "            G = GA[t]\n",
    "            action = actions[t]\n",
    "            state = states[t]\n",
    "            if self.flag_with_baseline == 1:  \n",
    "                delta = G - self.valueFunc(state)\n",
    "                gradient_w = 1\n",
    "                delta_w = self.alpha_w * delta * gradient_w\n",
    "                self.w += delta_w\n",
    "                D = delta\n",
    "            else: \n",
    "                D = G\n",
    "            gradient_theta = self.features[:, action] - np.dot(self.features, self.policy(state))\n",
    "            delta_theta = self.alpha_theta * np.power(self.gamma, t) * D * gradient_theta\n",
    "            self.theta += delta_theta"
   ]
  },
  {
   "cell_type": "code",
   "execution_count": 65,
   "id": "nervous-kitchen",
   "metadata": {},
   "outputs": [],
   "source": [
    "def train(env, agent, nEpisode):\n",
    "    policy_left = []\n",
    "    policy_right = []\n",
    "    \n",
    "    total_reward_episodes = np.zeros(nEpisode)\n",
    "    max_nStep = 1000\n",
    "    for iEpisode in range(nEpisode):\n",
    "        policy_left.append(agent.policy(state=0)[0])\n",
    "        policy_right.append(agent.policy(state=0)[1])\n",
    "        #if iEpisode % 10 == 0 and iEpisode < 150:\n",
    "            #print('Episode', iEpisode, end=' ')\n",
    "            #print(agent.policy(state=0))\n",
    "        #elif iEpisode % 100 == 0: \n",
    "            #print('Episode', iEpisode)\n",
    "        done = False\n",
    "        t = 0\n",
    "        T = np.inf\n",
    "        state = env.reset()\n",
    "        action = agent.act(state)\n",
    "        actionA = [action]\n",
    "        stateA = [state]\n",
    "        rewardA = [0]\n",
    "        while not done:\n",
    "            if t < T:\n",
    "                state, reward, done, info = env.step(action)\n",
    "                rewardA.append(reward)\n",
    "                stateA.append(state)\n",
    "                action = agent.act(state)\n",
    "                actionA.append(action)\n",
    "                if done:\n",
    "                    T = t + 1\n",
    "            t += 1\n",
    "            if t > max_nStep:\n",
    "                done = True\n",
    "        agent.learn(stateA, actionA, rewardA)\n",
    "        total_reward_episodes[iEpisode] = np.sum(rewardA)\n",
    "    return total_reward_episodes, policy_left, policy_right"
   ]
  },
  {
   "cell_type": "code",
   "execution_count": 84,
   "id": "immediate-martial",
   "metadata": {},
   "outputs": [],
   "source": [
    "reward_l, reward_r, case_lbl = 5, 10, 'PP' # case_lbl options: 'PP', 'NP' and 'NN'\n",
    "env = RandomWalk(initialState=0, reward_left=reward_l, reward_right=reward_r, case_label=case_lbl)\n",
    "\n",
    "theta_start = 'Left' # Values: 'Left' and 'Right'\n",
    "w_start = 0 # Initialisation of parameter w\n",
    "agent = PolicyGradient(gamma=1.0, alpha_theta=2**(-7), alpha_w=2**(-5), flag_with_baseline=1, first_action=0, theta_initialisation=theta_start, w_initialisation=w_start)"
   ]
  },
  {
   "cell_type": "code",
   "execution_count": 85,
   "id": "danish-midnight",
   "metadata": {},
   "outputs": [
    {
     "name": "stdout",
     "output_type": "stream",
     "text": [
      "[0.94978873 0.05021127]\n"
     ]
    }
   ],
   "source": [
    "print(agent.policy(state=0))"
   ]
  },
  {
   "cell_type": "code",
   "execution_count": 86,
   "id": "optimum-thursday",
   "metadata": {},
   "outputs": [],
   "source": [
    "total_reward_episodes, policy_left, policy_right = train(env, agent, nEpisode=1000)"
   ]
  },
  {
   "cell_type": "code",
   "execution_count": 87,
   "id": "defensive-piano",
   "metadata": {},
   "outputs": [],
   "source": [
    "def plotPolicy(policy_left, policy_right):\n",
    "    plt.plot(policy_left, label= 'Left action')\n",
    "    plt.plot(policy_right, label= 'Right action')\n",
    "    plt.xlabel('Episode')\n",
    "    plt.xlim(0, 1000)\n",
    "    plt.ylabel('Policy')\n",
    "    plt.legend(loc='best')\n",
    "    plt.grid(True)\n",
    "    plt.show()"
   ]
  },
  {
   "cell_type": "code",
   "execution_count": 88,
   "id": "surgical-parker",
   "metadata": {},
   "outputs": [
    {
     "data": {
      "image/png": "[encoded data removed]",
      "text/plain": [
       "<Figure size 432x288 with 1 Axes>"
      ]
     },
     "metadata": {
      "needs_background": "light"
     },
     "output_type": "display_data"
    }
   ],
   "source": [
    "plotPolicy(policy_left, policy_right)"
   ]
  },
  {
   "cell_type": "code",
   "execution_count": 423,
   "id": "stylish-reason",
   "metadata": {},
   "outputs": [],
   "source": [
    "def plotTotalRewardEpisodes(total_reward_episodes, alg_label):\n",
    "    if case_lbl=='NP':\n",
    "        plt.axhline(y=reward_r, color='y', linestyle='-.', label='v*(s0)')\n",
    "    elif case_lbl=='PP':\n",
    "        plt.axhline(y=reward_r, color='y', linestyle='-.', label='v*(s0)')\n",
    "    elif case_lbl=='NN':\n",
    "        plt.axhline(y=-reward_l, color='y', linestyle='-.', label='v*(s0)')\n",
    "    \n",
    "    plt.plot(total_reward_episodes, label= alg_label) \n",
    "    plt.xlabel('Episode')\n",
    "    plt.ylabel('G')\n",
    "    plt.xlim(0,150)\n",
    "    plt.legend(loc='best')\n",
    "    plt.grid(True)\n",
    "    plt.show()"
   ]
  },
  {
   "cell_type": "code",
   "execution_count": 430,
   "id": "formed-appendix",
   "metadata": {},
   "outputs": [],
   "source": [
    "number_runs = 100\n",
    "total_reward_episodes = np.zeros(1000)\n",
    "for run in range(0,number_runs):\n",
    "    reward_l, reward_r, case_lbl= 5, 10, 'NP'\n",
    "    theta_start = 'Left' # Values: 'Left' and 'Right'\n",
    "    w_start = 10 # Initialisation of parameter w\n",
    "    env = RandomWalk(initialState=0, reward_left=reward_l, reward_right=reward_r, case_label=case_lbl)\n",
    "    agent = PolicyGradient(gamma=1.0, alpha_theta=2**(-7), flag_with_baseline=0, first_action=0, theta_initialisation=theta_start, w_initialisation=w_start)\n",
    "    reward_episodes, policy_left, policy_right = train(env, agent, nEpisode=1000)\n",
    "    total_reward_episodes = total_reward_episodes + reward_episodes\n",
    "total_reward_episodes = total_reward_episodes / number_runs"
   ]
  },
  {
   "cell_type": "code",
   "execution_count": 431,
   "id": "purple-respondent",
   "metadata": {},
   "outputs": [
    {
     "data": {
      "image/png": "[encoded data removed]",
      "text/plain": [
       "<Figure size 432x288 with 1 Axes>"
      ]
     },
     "metadata": {
      "needs_background": "light"
     },
     "output_type": "display_data"
    }
   ],
   "source": [
    "plotTotalRewardEpisodes(total_reward_episodes, 'REINFORCE: alpha=2^(-7)')"
   ]
  },
  {
   "cell_type": "code",
   "execution_count": null,
   "id": "married-bracelet",
   "metadata": {},
   "outputs": [],
   "source": []
  }
 ],
 "metadata": {
  "kernelspec": {
   "display_name": "Python 3",
   "language": "python",
   "name": "python3"
  },
  "language_info": {
   "codemirror_mode": {
    "name": "ipython",
    "version": 3
   },
   "file_extension": ".py",
   "mimetype": "text/x-python",
   "name": "python",
   "nbconvert_exporter": "python",
   "pygments_lexer": "ipython3",
   "version": "3.7.4"
  }
 },
 "nbformat": 4,
 "nbformat_minor": 5
}
